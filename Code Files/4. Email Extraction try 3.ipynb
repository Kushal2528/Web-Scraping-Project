{
 "cells": [
  {
   "cell_type": "code",
   "execution_count": 1,
   "metadata": {},
   "outputs": [
    {
     "name": "stdout",
     "output_type": "stream",
     "text": [
      "Kushal\n"
     ]
    }
   ],
   "source": [
    "print(\"Kushal\")"
   ]
  },
  {
   "cell_type": "code",
   "execution_count": 2,
   "metadata": {},
   "outputs": [],
   "source": [
    "import pandas as pd\r\n",
    "import urllib.request\r\n",
    "from googlesearch import search\r\n",
    "import re\r\n",
    "df=pd.read_csv('C:/Users/MyPC/OneDrive/Documents/Inbiot VS/FINAL/Final after 2nd try/AICTE Combined List FINAL(2ndtryEmails).csv')"
   ]
  },
  {
   "cell_type": "code",
   "execution_count": 3,
   "metadata": {},
   "outputs": [
    {
     "data": {
      "text/html": [
       "<div>\n",
       "<style scoped>\n",
       "    .dataframe tbody tr th:only-of-type {\n",
       "        vertical-align: middle;\n",
       "    }\n",
       "\n",
       "    .dataframe tbody tr th {\n",
       "        vertical-align: top;\n",
       "    }\n",
       "\n",
       "    .dataframe thead th {\n",
       "        text-align: right;\n",
       "    }\n",
       "</style>\n",
       "<table border=\"1\" class=\"dataframe\">\n",
       "  <thead>\n",
       "    <tr style=\"text-align: right;\">\n",
       "      <th></th>\n",
       "      <th>Unnamed: 0</th>\n",
       "      <th>Unnamed: 0.1</th>\n",
       "      <th>AICTE ID</th>\n",
       "      <th>NAME</th>\n",
       "      <th>ADDRESS</th>\n",
       "      <th>DISTRICT</th>\n",
       "      <th>INSTITUTE</th>\n",
       "      <th>STATE</th>\n",
       "      <th>WEBSITE</th>\n",
       "      <th>EMAIL</th>\n",
       "    </tr>\n",
       "  </thead>\n",
       "  <tbody>\n",
       "    <tr>\n",
       "      <th>0</th>\n",
       "      <td>0</td>\n",
       "      <td>0</td>\n",
       "      <td>1-7003786958</td>\n",
       "      <td>GOVERNMENT POLYTECHNIC MAYEM BICHOLIM</td>\n",
       "      <td>MAYEM BICHOLIM GOA</td>\n",
       "      <td>NORTH GOA</td>\n",
       "      <td>Government</td>\n",
       "      <td>Goa</td>\n",
       "      <td>http://gpb.goa.gov.in/</td>\n",
       "      <td>NaN</td>\n",
       "    </tr>\n",
       "    <tr>\n",
       "      <th>1</th>\n",
       "      <td>1</td>\n",
       "      <td>1</td>\n",
       "      <td>1-7006364088</td>\n",
       "      <td>DON BOSCO COLLEGE OF ENGINEERING</td>\n",
       "      <td>DON BOSCO, FATORDA,</td>\n",
       "      <td>SOUTH GOA</td>\n",
       "      <td>Private-Self Financing</td>\n",
       "      <td>Goa</td>\n",
       "      <td>https://www.dbcegoa.ac.in/</td>\n",
       "      <td>dbcefatorda@dbcegoa.ac.in</td>\n",
       "    </tr>\n",
       "    <tr>\n",
       "      <th>2</th>\n",
       "      <td>2</td>\n",
       "      <td>2</td>\n",
       "      <td>1-7006458223</td>\n",
       "      <td>INSTITUTE OF SHIPBUILDING TECHNOLOGY</td>\n",
       "      <td>BOGDA, VASCO-DA-GAMA, GOA 403802</td>\n",
       "      <td>SOUTH GOA</td>\n",
       "      <td>Govt aided</td>\n",
       "      <td>Goa</td>\n",
       "      <td>http://www.isbt.ac.in/</td>\n",
       "      <td>NaN</td>\n",
       "    </tr>\n",
       "    <tr>\n",
       "      <th>3</th>\n",
       "      <td>3</td>\n",
       "      <td>3</td>\n",
       "      <td>1-7006524807</td>\n",
       "      <td>GOA COLLEGE OF ENGINEERING (GOVERNMENT OF GOA)</td>\n",
       "      <td>FARMAGUDI, PONDA-GOA PIN-403401</td>\n",
       "      <td>NORTH GOA</td>\n",
       "      <td>Government</td>\n",
       "      <td>Goa</td>\n",
       "      <td>http://www.gec.ac.in/</td>\n",
       "      <td>enquiry@gec.ac.in</td>\n",
       "    </tr>\n",
       "  </tbody>\n",
       "</table>\n",
       "</div>"
      ],
      "text/plain": [
       "   Unnamed: 0  Unnamed: 0.1      AICTE ID  \\\n",
       "0           0             0  1-7003786958   \n",
       "1           1             1  1-7006364088   \n",
       "2           2             2  1-7006458223   \n",
       "3           3             3  1-7006524807   \n",
       "\n",
       "                                             NAME  \\\n",
       "0           GOVERNMENT POLYTECHNIC MAYEM BICHOLIM   \n",
       "1                DON BOSCO COLLEGE OF ENGINEERING   \n",
       "2            INSTITUTE OF SHIPBUILDING TECHNOLOGY   \n",
       "3  GOA COLLEGE OF ENGINEERING (GOVERNMENT OF GOA)   \n",
       "\n",
       "                            ADDRESS   DISTRICT               INSTITUTE STATE  \\\n",
       "0                MAYEM BICHOLIM GOA  NORTH GOA              Government   Goa   \n",
       "1               DON BOSCO, FATORDA,  SOUTH GOA  Private-Self Financing   Goa   \n",
       "2  BOGDA, VASCO-DA-GAMA, GOA 403802  SOUTH GOA              Govt aided   Goa   \n",
       "3   FARMAGUDI, PONDA-GOA PIN-403401  NORTH GOA              Government   Goa   \n",
       "\n",
       "                      WEBSITE                      EMAIL  \n",
       "0      http://gpb.goa.gov.in/                        NaN  \n",
       "1  https://www.dbcegoa.ac.in/  dbcefatorda@dbcegoa.ac.in  \n",
       "2      http://www.isbt.ac.in/                        NaN  \n",
       "3       http://www.gec.ac.in/          enquiry@gec.ac.in  "
      ]
     },
     "execution_count": 3,
     "metadata": {},
     "output_type": "execute_result"
    }
   ],
   "source": [
    "df.head(4)"
   ]
  },
  {
   "cell_type": "code",
   "execution_count": 12,
   "metadata": {},
   "outputs": [
    {
     "data": {
      "text/plain": [
       "5743"
      ]
     },
     "execution_count": 12,
     "metadata": {},
     "output_type": "execute_result"
    }
   ],
   "source": [
    "df.shape[0]"
   ]
  },
  {
   "cell_type": "markdown",
   "metadata": {},
   "source": [
    "# Trying with ISO-8859-1 decoding insttead of UTF-8"
   ]
  },
  {
   "cell_type": "code",
   "execution_count": null,
   "metadata": {},
   "outputs": [],
   "source": [
    "for i in range(0,df.shape[0]):\r\n",
    "    if pd.isnull(df.iloc[i,9]):\r\n",
    "        try:\r\n",
    "            query=df.iloc[i,3]+\"Contact Us\"\r\n",
    "            for j in search(query, num=1, stop=1, pause=1):\r\n",
    "                weburl=urllib.request.urlopen(j)\r\n",
    "                data=weburl.read().decode('ISO-8859-1')    \r\n",
    "                valid=r'\\b[A-Za-z0-9._%+-]+@[A-Za-z0-9.-]+\\.[A-Z|a-z]{2,}\\b'\r\n",
    "                email=re.search(valid,data)\r\n",
    "                if email!=None:\r\n",
    "                    a=email.group(0)\r\n",
    "                    df.iloc[i,9]=a\r\n",
    "                    print(i,'\\t',df.iloc[i,3],'\\t',email.group(0))\r\n",
    "                else:\r\n",
    "                    print(\"Match Not found\")\r\n",
    "        except Exception as error:\r\n",
    "            print(error)"
   ]
  },
  {
   "cell_type": "code",
   "execution_count": 16,
   "metadata": {},
   "outputs": [],
   "source": [
    "df.to_csv('C:/Users/MyPC/OneDrive/Documents/Inbiot VS/Email 3rd try/Final/AICTE Combined List FINAL.csv')"
   ]
  },
  {
   "cell_type": "code",
   "execution_count": 17,
   "metadata": {},
   "outputs": [
    {
     "data": {
      "text/plain": [
       "Unnamed: 0         0\n",
       "Unnamed: 0.1       0\n",
       "AICTE ID           0\n",
       "NAME               0\n",
       "ADDRESS            0\n",
       "DISTRICT           0\n",
       "INSTITUTE          0\n",
       "STATE              0\n",
       "WEBSITE            0\n",
       "EMAIL           1664\n",
       "dtype: int64"
      ]
     },
     "execution_count": 17,
     "metadata": {},
     "output_type": "execute_result"
    }
   ],
   "source": [
    "df.isnull().sum()"
   ]
  },
  {
   "cell_type": "markdown",
   "metadata": {},
   "source": [
    "# Trying with Headers defined(for HTTP error code 403:Forbidden)"
   ]
  },
  {
   "cell_type": "code",
   "execution_count": 18,
   "metadata": {},
   "outputs": [],
   "source": [
    "header= {'User-Agent': 'Mozilla/5.0 (X11; Linux x86_64) ' \r\n",
    "      'AppleWebKit/537.11 (KHTML, like Gecko) '\r\n",
    "      'Chrome/23.0.1271.64 Safari/537.11',\r\n",
    "      'Accept': 'text/html,application/xhtml+xml,application/xml;q=0.9,*/*;q=0.8',\r\n",
    "      'Accept-Charset': 'ISO-8859-1,utf-8;q=0.7,*;q=0.3',\r\n",
    "      'Accept-Encoding': 'none',\r\n",
    "      'Accept-Language': 'en-US,en;q=0.8',\r\n",
    "      'Connection': 'keep-alive'}"
   ]
  },
  {
   "cell_type": "code",
   "execution_count": null,
   "metadata": {},
   "outputs": [],
   "source": [
    "for i in range(0,df.shape[0]):\r\n",
    "    if pd.isnull(df.iloc[i,9]):\r\n",
    "        try:\r\n",
    "            query=df.iloc[i,3]+\"Contact Us\"\r\n",
    "            for j in search(query, num=1, stop=1, pause=1):\r\n",
    "                req = urllib.request.Request(url=j, headers=header)  \r\n",
    "                data=urllib.request.urlopen(req).read().decode('ISO-8859-1')    \r\n",
    "                valid=r'\\b[A-Za-z0-9._%+-]+@[A-Za-z0-9.-]+\\.[A-Z|a-z]{2,}\\b'\r\n",
    "                email=re.search(valid,data)\r\n",
    "                if email!=None:\r\n",
    "                    a=email.group(0)\r\n",
    "                    df.iloc[i,9]=a\r\n",
    "                    print(i,'\\t',df.iloc[i,3],'\\t',email.group(0))\r\n",
    "                else:\r\n",
    "                    print(i,\"Match Not found\")\r\n",
    "        except Exception as error:\r\n",
    "            print(i,\" \",error)"
   ]
  },
  {
   "cell_type": "code",
   "execution_count": 45,
   "metadata": {},
   "outputs": [
    {
     "data": {
      "text/plain": [
       "Unnamed: 0         0\n",
       "Unnamed: 0.1       0\n",
       "AICTE ID           0\n",
       "NAME               0\n",
       "ADDRESS            0\n",
       "DISTRICT           0\n",
       "INSTITUTE          0\n",
       "STATE              0\n",
       "WEBSITE            0\n",
       "EMAIL           1480\n",
       "a                  0\n",
       "dtype: int64"
      ]
     },
     "execution_count": 45,
     "metadata": {},
     "output_type": "execute_result"
    }
   ],
   "source": [
    "df.isnull().sum()"
   ]
  },
  {
   "cell_type": "code",
   "execution_count": 37,
   "metadata": {},
   "outputs": [],
   "source": [
    "df.to_csv('C:/Users/MyPC/OneDrive/Documents/Inbiot VS/Email 3rd try/Upto 4000 (headers)/AICTE Combined List FINAL.csv')"
   ]
  },
  {
   "cell_type": "code",
   "execution_count": null,
   "metadata": {},
   "outputs": [],
   "source": [
    "sub='.pdf'\r\n",
    "df[\"a\"]=((df[\"EMAIL\"].str.find(sub))!=-1 )"
   ]
  },
  {
   "cell_type": "code",
   "execution_count": 1,
   "metadata": {},
   "outputs": [],
   "source": [
    "import pandas as pd\r\n",
    "df1=pd.read_csv('C:/Users/MyPC/OneDrive/Documents/Inbiot VS/Presentation/FINAL AFTER HEADERS/AICTE Combined List FINAL.csv')"
   ]
  },
  {
   "cell_type": "code",
   "execution_count": 2,
   "metadata": {},
   "outputs": [
    {
     "data": {
      "text/html": [
       "<div>\n",
       "<style scoped>\n",
       "    .dataframe tbody tr th:only-of-type {\n",
       "        vertical-align: middle;\n",
       "    }\n",
       "\n",
       "    .dataframe tbody tr th {\n",
       "        vertical-align: top;\n",
       "    }\n",
       "\n",
       "    .dataframe thead th {\n",
       "        text-align: right;\n",
       "    }\n",
       "</style>\n",
       "<table border=\"1\" class=\"dataframe\">\n",
       "  <thead>\n",
       "    <tr style=\"text-align: right;\">\n",
       "      <th></th>\n",
       "      <th>Unnamed: 0</th>\n",
       "      <th>AICTE ID</th>\n",
       "      <th>NAME</th>\n",
       "      <th>ADDRESS</th>\n",
       "      <th>DISTRICT</th>\n",
       "      <th>INSTITUTE</th>\n",
       "      <th>STATE</th>\n",
       "      <th>WEBSITE</th>\n",
       "      <th>EMAIL</th>\n",
       "    </tr>\n",
       "  </thead>\n",
       "  <tbody>\n",
       "    <tr>\n",
       "      <th>0</th>\n",
       "      <td>0</td>\n",
       "      <td>1-7003786958</td>\n",
       "      <td>GOVERNMENT POLYTECHNIC MAYEM BICHOLIM</td>\n",
       "      <td>MAYEM BICHOLIM GOA</td>\n",
       "      <td>NORTH GOA</td>\n",
       "      <td>Government</td>\n",
       "      <td>Goa</td>\n",
       "      <td>http://gpb.goa.gov.in/</td>\n",
       "      <td>NaN</td>\n",
       "    </tr>\n",
       "    <tr>\n",
       "      <th>1</th>\n",
       "      <td>1</td>\n",
       "      <td>1-7006364088</td>\n",
       "      <td>DON BOSCO COLLEGE OF ENGINEERING</td>\n",
       "      <td>DON BOSCO, FATORDA,</td>\n",
       "      <td>SOUTH GOA</td>\n",
       "      <td>Private-Self Financing</td>\n",
       "      <td>Goa</td>\n",
       "      <td>https://www.dbcegoa.ac.in/</td>\n",
       "      <td>dbcefatorda@dbcegoa.ac.in</td>\n",
       "    </tr>\n",
       "    <tr>\n",
       "      <th>2</th>\n",
       "      <td>2</td>\n",
       "      <td>1-7006458223</td>\n",
       "      <td>INSTITUTE OF SHIPBUILDING TECHNOLOGY</td>\n",
       "      <td>BOGDA, VASCO-DA-GAMA, GOA 403802</td>\n",
       "      <td>SOUTH GOA</td>\n",
       "      <td>Govt aided</td>\n",
       "      <td>Goa</td>\n",
       "      <td>http://www.isbt.ac.in/</td>\n",
       "      <td>isbt@isbt.ac.in</td>\n",
       "    </tr>\n",
       "    <tr>\n",
       "      <th>3</th>\n",
       "      <td>3</td>\n",
       "      <td>1-7006524807</td>\n",
       "      <td>GOA COLLEGE OF ENGINEERING (GOVERNMENT OF GOA)</td>\n",
       "      <td>FARMAGUDI, PONDA-GOA PIN-403401</td>\n",
       "      <td>NORTH GOA</td>\n",
       "      <td>Government</td>\n",
       "      <td>Goa</td>\n",
       "      <td>http://www.gec.ac.in/</td>\n",
       "      <td>enquiry@gec.ac.in</td>\n",
       "    </tr>\n",
       "    <tr>\n",
       "      <th>4</th>\n",
       "      <td>4</td>\n",
       "      <td>1-7010374121</td>\n",
       "      <td>SHREE RAYESHWAR INSTITUTE OF ENGINEERING AND I...</td>\n",
       "      <td>SHIV SHAIL, KARAI, SHIRODA, GOA 403103</td>\n",
       "      <td>NORTH GOA</td>\n",
       "      <td>Private-Self Financing</td>\n",
       "      <td>Goa</td>\n",
       "      <td>https://ritgoa.ac.in/</td>\n",
       "      <td>principal.ritgoa@gmail.com</td>\n",
       "    </tr>\n",
       "  </tbody>\n",
       "</table>\n",
       "</div>"
      ],
      "text/plain": [
       "   Unnamed: 0      AICTE ID  \\\n",
       "0           0  1-7003786958   \n",
       "1           1  1-7006364088   \n",
       "2           2  1-7006458223   \n",
       "3           3  1-7006524807   \n",
       "4           4  1-7010374121   \n",
       "\n",
       "                                                NAME  \\\n",
       "0              GOVERNMENT POLYTECHNIC MAYEM BICHOLIM   \n",
       "1                   DON BOSCO COLLEGE OF ENGINEERING   \n",
       "2               INSTITUTE OF SHIPBUILDING TECHNOLOGY   \n",
       "3     GOA COLLEGE OF ENGINEERING (GOVERNMENT OF GOA)   \n",
       "4  SHREE RAYESHWAR INSTITUTE OF ENGINEERING AND I...   \n",
       "\n",
       "                                  ADDRESS   DISTRICT               INSTITUTE  \\\n",
       "0                      MAYEM BICHOLIM GOA  NORTH GOA              Government   \n",
       "1                     DON BOSCO, FATORDA,  SOUTH GOA  Private-Self Financing   \n",
       "2        BOGDA, VASCO-DA-GAMA, GOA 403802  SOUTH GOA              Govt aided   \n",
       "3         FARMAGUDI, PONDA-GOA PIN-403401  NORTH GOA              Government   \n",
       "4  SHIV SHAIL, KARAI, SHIRODA, GOA 403103  NORTH GOA  Private-Self Financing   \n",
       "\n",
       "  STATE                     WEBSITE                       EMAIL  \n",
       "0   Goa      http://gpb.goa.gov.in/                         NaN  \n",
       "1   Goa  https://www.dbcegoa.ac.in/   dbcefatorda@dbcegoa.ac.in  \n",
       "2   Goa      http://www.isbt.ac.in/             isbt@isbt.ac.in  \n",
       "3   Goa       http://www.gec.ac.in/           enquiry@gec.ac.in  \n",
       "4   Goa       https://ritgoa.ac.in/  principal.ritgoa@gmail.com  "
      ]
     },
     "execution_count": 2,
     "metadata": {},
     "output_type": "execute_result"
    }
   ],
   "source": [
    "df1.head()"
   ]
  },
  {
   "cell_type": "code",
   "execution_count": 3,
   "metadata": {},
   "outputs": [
    {
     "data": {
      "text/plain": [
       "Unnamed: 0       0\n",
       "AICTE ID         0\n",
       "NAME             0\n",
       "ADDRESS          0\n",
       "DISTRICT         0\n",
       "INSTITUTE        0\n",
       "STATE            0\n",
       "WEBSITE          0\n",
       "EMAIL         1480\n",
       "dtype: int64"
      ]
     },
     "execution_count": 3,
     "metadata": {},
     "output_type": "execute_result"
    }
   ],
   "source": [
    "df1.isnull().sum()"
   ]
  },
  {
   "cell_type": "code",
   "execution_count": null,
   "metadata": {},
   "outputs": [],
   "source": []
  }
 ],
 "metadata": {
  "interpreter": {
   "hash": "3d248631164ccf49e4d0f7cd9b6653810f380e0eb47e5ed10fce527ac6e165db"
  },
  "kernelspec": {
   "display_name": "Python 3.7.10 64-bit ('myenv': conda)",
   "name": "python3"
  },
  "language_info": {
   "codemirror_mode": {
    "name": "ipython",
    "version": 3
   },
   "file_extension": ".py",
   "mimetype": "text/x-python",
   "name": "python",
   "nbconvert_exporter": "python",
   "pygments_lexer": "ipython3",
   "version": "3.7.10"
  },
  "orig_nbformat": 4
 },
 "nbformat": 4,
 "nbformat_minor": 2
}