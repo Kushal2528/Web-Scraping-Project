{
 "cells": [
  {
   "cell_type": "code",
   "execution_count": null,
   "metadata": {},
   "outputs": [],
   "source": [
    "import pandas as pd\n",
    "df=pd.read_csv('C:/Users/MyPC/OneDrive/Documents/Inbiot VS/Presentation/FINAL AFTER HEADERS/AICTE Combined List FINAL.csv',index_col=0)\n",
    "import numpy as np"
   ]
  },
  {
   "cell_type": "markdown",
   "metadata": {},
   "source": [
    "# Separating data of 3rd party websites"
   ]
  },
  {
   "cell_type": "code",
   "execution_count": null,
   "metadata": {},
   "outputs": [],
   "source": [
    "search=[\"www.knowyourcollege-gov.in\",\"www.careers360.com\",\"collegedunia.com\",\"www.collegedekho.com\",\"www.shiksha.com\",\"www.icbse.com\",\"www.university.youth4work.com\"]\r\n",
    "b=df[df['WEBSITE'].str.contains('|'.join(search),na=False)]\r\n",
    "b.head(5)"
   ]
  },
  {
   "cell_type": "markdown",
   "metadata": {},
   "source": [
    "## Saving 3rd party data with null emails "
   ]
  },
  {
   "cell_type": "code",
   "execution_count": null,
   "metadata": {},
   "outputs": [],
   "source": [
    "a=b[pd.isnull(b.EMAIL)]\r\n",
    "a.head(4)"
   ]
  },
  {
   "cell_type": "code",
   "execution_count": null,
   "metadata": {},
   "outputs": [],
   "source": [
    "#a.to_csv('C:/Users/MyPC/OneDrive/Documents/Inbiot VS/Filtering/3rdparty_with_null_emails.csv')"
   ]
  },
  {
   "cell_type": "markdown",
   "metadata": {},
   "source": [
    "## Deleting null from 3rd party and exporting"
   ]
  },
  {
   "cell_type": "code",
   "execution_count": null,
   "metadata": {},
   "outputs": [],
   "source": [
    "b = b.dropna(axis=0, how='any')"
   ]
  },
  {
   "cell_type": "code",
   "execution_count": null,
   "metadata": {},
   "outputs": [],
   "source": [
    "b.isnull().sum()"
   ]
  },
  {
   "cell_type": "code",
   "execution_count": null,
   "metadata": {},
   "outputs": [],
   "source": [
    "#b.to_csv('C:/Users/MyPC/OneDrive/Documents/Inbiot VS/Filtering/3rdparty.csv')"
   ]
  },
  {
   "cell_type": "markdown",
   "metadata": {},
   "source": [
    "# Removing all 3rd party from original dataset"
   ]
  },
  {
   "cell_type": "code",
   "execution_count": null,
   "metadata": {},
   "outputs": [],
   "source": [
    "search=[\"www.knowyourcollege-gov.in\",\"www.careers360.com\",\"collegedunia.com\",\"www.collegedekho.com\",\"www.shiksha.com\",\"www.icbse.com\",\"www.university.youth4work.com\"]\r\n",
    "b=df[df['WEBSITE'].str.contains('|'.join(search),na=False)]\r\n",
    "p=(b.index).tolist()\r\n",
    "df.drop(labels=p,inplace=True)"
   ]
  },
  {
   "cell_type": "code",
   "execution_count": null,
   "metadata": {},
   "outputs": [],
   "source": [
    "#df.to_csv('C:/Users/MyPC/OneDrive/Documents/Inbiot VS/Filtering/NO_3rdparty.csv')"
   ]
  }
 ],
 "metadata": {
  "interpreter": {
   "hash": "3d248631164ccf49e4d0f7cd9b6653810f380e0eb47e5ed10fce527ac6e165db"
  },
  "kernelspec": {
   "display_name": "Python 3.7.10 64-bit ('myenv': conda)",
   "name": "python3"
  },
  "language_info": {
   "codemirror_mode": {
    "name": "ipython",
    "version": 3
   },
   "file_extension": ".py",
   "mimetype": "text/x-python",
   "name": "python",
   "nbconvert_exporter": "python",
   "pygments_lexer": "ipython3",
   "version": "3.7.10"
  }
 },
 "nbformat": 4,
 "nbformat_minor": 2
}