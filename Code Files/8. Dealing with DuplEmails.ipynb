{
 "cells": [
  {
   "cell_type": "code",
   "execution_count": 69,
   "metadata": {},
   "outputs": [],
   "source": [
    "import pandas as pd\r\n",
    "df=pd.read_csv('C:/Users/MyPC/OneDrive/Documents/Inbiot VS/Filtering/No 3P Dupl Remove/ACTUAL Cleaned/Duplicates Removed  (No3party).csv',index_col=0)"
   ]
  },
  {
   "cell_type": "code",
   "execution_count": null,
   "metadata": {},
   "outputs": [],
   "source": []
  },
  {
   "cell_type": "code",
   "execution_count": 70,
   "metadata": {},
   "outputs": [
    {
     "data": {
      "text/html": [
       "<div>\n",
       "<style scoped>\n",
       "    .dataframe tbody tr th:only-of-type {\n",
       "        vertical-align: middle;\n",
       "    }\n",
       "\n",
       "    .dataframe tbody tr th {\n",
       "        vertical-align: top;\n",
       "    }\n",
       "\n",
       "    .dataframe thead th {\n",
       "        text-align: right;\n",
       "    }\n",
       "</style>\n",
       "<table border=\"1\" class=\"dataframe\">\n",
       "  <thead>\n",
       "    <tr style=\"text-align: right;\">\n",
       "      <th></th>\n",
       "      <th>NAME</th>\n",
       "      <th>ADDRESS</th>\n",
       "      <th>DISTRICT</th>\n",
       "      <th>INSTITUTE</th>\n",
       "      <th>STATE</th>\n",
       "      <th>WEBSITE</th>\n",
       "      <th>EMAIL</th>\n",
       "    </tr>\n",
       "    <tr>\n",
       "      <th>AICTE ID</th>\n",
       "      <th></th>\n",
       "      <th></th>\n",
       "      <th></th>\n",
       "      <th></th>\n",
       "      <th></th>\n",
       "      <th></th>\n",
       "      <th></th>\n",
       "    </tr>\n",
       "  </thead>\n",
       "  <tbody>\n",
       "    <tr>\n",
       "      <th>1-7003786958</th>\n",
       "      <td>GOVERNMENT POLYTECHNIC MAYEM BICHOLIM</td>\n",
       "      <td>MAYEM BICHOLIM GOA</td>\n",
       "      <td>NORTH GOA</td>\n",
       "      <td>Government</td>\n",
       "      <td>Goa</td>\n",
       "      <td>http://gpb.goa.gov.in/</td>\n",
       "      <td>NaN</td>\n",
       "    </tr>\n",
       "    <tr>\n",
       "      <th>1-7006364088</th>\n",
       "      <td>DON BOSCO COLLEGE OF ENGINEERING</td>\n",
       "      <td>DON BOSCO, FATORDA,</td>\n",
       "      <td>SOUTH GOA</td>\n",
       "      <td>Private-Self Financing</td>\n",
       "      <td>Goa</td>\n",
       "      <td>https://www.dbcegoa.ac.in/</td>\n",
       "      <td>dbcefatorda@dbcegoa.ac.in</td>\n",
       "    </tr>\n",
       "    <tr>\n",
       "      <th>1-7006458223</th>\n",
       "      <td>INSTITUTE OF SHIPBUILDING TECHNOLOGY</td>\n",
       "      <td>BOGDA, VASCO-DA-GAMA, GOA 403802</td>\n",
       "      <td>SOUTH GOA</td>\n",
       "      <td>Govt aided</td>\n",
       "      <td>Goa</td>\n",
       "      <td>http://www.isbt.ac.in/</td>\n",
       "      <td>isbt@isbt.ac.in</td>\n",
       "    </tr>\n",
       "    <tr>\n",
       "      <th>1-7006524807</th>\n",
       "      <td>GOA COLLEGE OF ENGINEERING (GOVERNMENT OF GOA)</td>\n",
       "      <td>FARMAGUDI, PONDA-GOA PIN-403401</td>\n",
       "      <td>NORTH GOA</td>\n",
       "      <td>Government</td>\n",
       "      <td>Goa</td>\n",
       "      <td>http://www.gec.ac.in/</td>\n",
       "      <td>enquiry@gec.ac.in</td>\n",
       "    </tr>\n",
       "    <tr>\n",
       "      <th>1-7010374121</th>\n",
       "      <td>SHREE RAYESHWAR INSTITUTE OF ENGINEERING AND I...</td>\n",
       "      <td>SHIV SHAIL, KARAI, SHIRODA, GOA 403103</td>\n",
       "      <td>NORTH GOA</td>\n",
       "      <td>Private-Self Financing</td>\n",
       "      <td>Goa</td>\n",
       "      <td>https://ritgoa.ac.in/</td>\n",
       "      <td>principal.ritgoa@gmail.com</td>\n",
       "    </tr>\n",
       "  </tbody>\n",
       "</table>\n",
       "</div>"
      ],
      "text/plain": [
       "                                                           NAME  \\\n",
       "AICTE ID                                                          \n",
       "1-7003786958              GOVERNMENT POLYTECHNIC MAYEM BICHOLIM   \n",
       "1-7006364088                   DON BOSCO COLLEGE OF ENGINEERING   \n",
       "1-7006458223               INSTITUTE OF SHIPBUILDING TECHNOLOGY   \n",
       "1-7006524807     GOA COLLEGE OF ENGINEERING (GOVERNMENT OF GOA)   \n",
       "1-7010374121  SHREE RAYESHWAR INSTITUTE OF ENGINEERING AND I...   \n",
       "\n",
       "                                             ADDRESS   DISTRICT  \\\n",
       "AICTE ID                                                          \n",
       "1-7003786958                      MAYEM BICHOLIM GOA  NORTH GOA   \n",
       "1-7006364088                     DON BOSCO, FATORDA,  SOUTH GOA   \n",
       "1-7006458223        BOGDA, VASCO-DA-GAMA, GOA 403802  SOUTH GOA   \n",
       "1-7006524807         FARMAGUDI, PONDA-GOA PIN-403401  NORTH GOA   \n",
       "1-7010374121  SHIV SHAIL, KARAI, SHIRODA, GOA 403103  NORTH GOA   \n",
       "\n",
       "                           INSTITUTE STATE                     WEBSITE  \\\n",
       "AICTE ID                                                                 \n",
       "1-7003786958              Government   Goa      http://gpb.goa.gov.in/   \n",
       "1-7006364088  Private-Self Financing   Goa  https://www.dbcegoa.ac.in/   \n",
       "1-7006458223              Govt aided   Goa      http://www.isbt.ac.in/   \n",
       "1-7006524807              Government   Goa       http://www.gec.ac.in/   \n",
       "1-7010374121  Private-Self Financing   Goa       https://ritgoa.ac.in/   \n",
       "\n",
       "                                   EMAIL  \n",
       "AICTE ID                                  \n",
       "1-7003786958                         NaN  \n",
       "1-7006364088   dbcefatorda@dbcegoa.ac.in  \n",
       "1-7006458223             isbt@isbt.ac.in  \n",
       "1-7006524807           enquiry@gec.ac.in  \n",
       "1-7010374121  principal.ritgoa@gmail.com  "
      ]
     },
     "execution_count": 70,
     "metadata": {},
     "output_type": "execute_result"
    }
   ],
   "source": [
    "df.head()"
   ]
  },
  {
   "cell_type": "code",
   "execution_count": 71,
   "metadata": {},
   "outputs": [
    {
     "data": {
      "text/plain": [
       "support@youth4work.com                                  36\n",
       "14370afcdc17429f9e418d5ffbd0334a@sentry.wixpress.com    22\n",
       "kyc.feedback@gmail.com                                   8\n",
       "info@example.com                                         8\n",
       "info@indcareer.com                                       6\n",
       "                                                        ..\n",
       "info@nspc.co.in                                          1\n",
       "bankeybiharicollege@gmail.com                            1\n",
       "mipbishnupur2014@gmail.com                               1\n",
       "sapolytechniccollege@gmail.com                           1\n",
       "info@mitbishnupur.ac.in                                  1\n",
       "Name: EMAIL, Length: 2667, dtype: int64"
      ]
     },
     "execution_count": 71,
     "metadata": {},
     "output_type": "execute_result"
    }
   ],
   "source": [
    "df.EMAIL.value_counts()"
   ]
  },
  {
   "cell_type": "code",
   "execution_count": 72,
   "metadata": {},
   "outputs": [],
   "source": [
    "a=df.EMAIL.value_counts()\r\n",
    "#a.to_csv('C:/Users/MyPC/OneDrive/Documents/Inbiot VS/Filtering/No 3P Dupl Remove/ACTUAL Cleaned/Email Occurences after duplremov/emailoccur.csv')"
   ]
  },
  {
   "cell_type": "code",
   "execution_count": 73,
   "metadata": {},
   "outputs": [],
   "source": [
    "edf=pd.read_csv('C:/Users/MyPC/OneDrive/Documents/Inbiot VS/Filtering/No 3P Dupl Remove/ACTUAL Cleaned/Email Occurences after duplremov/emailoccur.csv')"
   ]
  },
  {
   "cell_type": "code",
   "execution_count": 74,
   "metadata": {},
   "outputs": [
    {
     "data": {
      "text/html": [
       "<div>\n",
       "<style scoped>\n",
       "    .dataframe tbody tr th:only-of-type {\n",
       "        vertical-align: middle;\n",
       "    }\n",
       "\n",
       "    .dataframe tbody tr th {\n",
       "        vertical-align: top;\n",
       "    }\n",
       "\n",
       "    .dataframe thead th {\n",
       "        text-align: right;\n",
       "    }\n",
       "</style>\n",
       "<table border=\"1\" class=\"dataframe\">\n",
       "  <thead>\n",
       "    <tr style=\"text-align: right;\">\n",
       "      <th></th>\n",
       "      <th>EMAIL</th>\n",
       "      <th>OCCURENCES</th>\n",
       "    </tr>\n",
       "  </thead>\n",
       "  <tbody>\n",
       "    <tr>\n",
       "      <th>0</th>\n",
       "      <td>support@youth4work.com</td>\n",
       "      <td>36</td>\n",
       "    </tr>\n",
       "    <tr>\n",
       "      <th>1</th>\n",
       "      <td>14370afcdc17429f9e418d5ffbd0334a@sentry.wixpre...</td>\n",
       "      <td>22</td>\n",
       "    </tr>\n",
       "    <tr>\n",
       "      <th>2</th>\n",
       "      <td>info@example.com</td>\n",
       "      <td>8</td>\n",
       "    </tr>\n",
       "    <tr>\n",
       "      <th>3</th>\n",
       "      <td>kyc.feedback@gmail.com</td>\n",
       "      <td>8</td>\n",
       "    </tr>\n",
       "    <tr>\n",
       "      <th>4</th>\n",
       "      <td>info@indcareer.com</td>\n",
       "      <td>6</td>\n",
       "    </tr>\n",
       "    <tr>\n",
       "      <th>...</th>\n",
       "      <td>...</td>\n",
       "      <td>...</td>\n",
       "    </tr>\n",
       "    <tr>\n",
       "      <th>2662</th>\n",
       "      <td>gpgannavaram@gmail.com</td>\n",
       "      <td>1</td>\n",
       "    </tr>\n",
       "    <tr>\n",
       "      <th>2663</th>\n",
       "      <td>deancfdt@tanuvas.org.in</td>\n",
       "      <td>1</td>\n",
       "    </tr>\n",
       "    <tr>\n",
       "      <th>2664</th>\n",
       "      <td>855rectprincipal@gmail.com</td>\n",
       "      <td>1</td>\n",
       "    </tr>\n",
       "    <tr>\n",
       "      <th>2665</th>\n",
       "      <td>witswarangal@gmail.com</td>\n",
       "      <td>1</td>\n",
       "    </tr>\n",
       "    <tr>\n",
       "      <th>2666</th>\n",
       "      <td>mriemcollege@gmail.com</td>\n",
       "      <td>1</td>\n",
       "    </tr>\n",
       "  </tbody>\n",
       "</table>\n",
       "<p>2667 rows × 2 columns</p>\n",
       "</div>"
      ],
      "text/plain": [
       "                                                  EMAIL  OCCURENCES\n",
       "0                                support@youth4work.com          36\n",
       "1     14370afcdc17429f9e418d5ffbd0334a@sentry.wixpre...          22\n",
       "2                                      info@example.com           8\n",
       "3                                kyc.feedback@gmail.com           8\n",
       "4                                    info@indcareer.com           6\n",
       "...                                                 ...         ...\n",
       "2662                             gpgannavaram@gmail.com           1\n",
       "2663                            deancfdt@tanuvas.org.in           1\n",
       "2664                         855rectprincipal@gmail.com           1\n",
       "2665                             witswarangal@gmail.com           1\n",
       "2666                             mriemcollege@gmail.com           1\n",
       "\n",
       "[2667 rows x 2 columns]"
      ]
     },
     "execution_count": 74,
     "metadata": {},
     "output_type": "execute_result"
    }
   ],
   "source": [
    "edf"
   ]
  },
  {
   "cell_type": "code",
   "execution_count": 75,
   "metadata": {},
   "outputs": [],
   "source": [
    "edf.columns=['EMAIL','OCCURENCES']"
   ]
  },
  {
   "cell_type": "code",
   "execution_count": 76,
   "metadata": {},
   "outputs": [
    {
     "data": {
      "text/html": [
       "<div>\n",
       "<style scoped>\n",
       "    .dataframe tbody tr th:only-of-type {\n",
       "        vertical-align: middle;\n",
       "    }\n",
       "\n",
       "    .dataframe tbody tr th {\n",
       "        vertical-align: top;\n",
       "    }\n",
       "\n",
       "    .dataframe thead th {\n",
       "        text-align: right;\n",
       "    }\n",
       "</style>\n",
       "<table border=\"1\" class=\"dataframe\">\n",
       "  <thead>\n",
       "    <tr style=\"text-align: right;\">\n",
       "      <th></th>\n",
       "      <th>EMAIL</th>\n",
       "      <th>OCCURENCES</th>\n",
       "    </tr>\n",
       "  </thead>\n",
       "  <tbody>\n",
       "    <tr>\n",
       "      <th>0</th>\n",
       "      <td>support@youth4work.com</td>\n",
       "      <td>36</td>\n",
       "    </tr>\n",
       "    <tr>\n",
       "      <th>1</th>\n",
       "      <td>14370afcdc17429f9e418d5ffbd0334a@sentry.wixpre...</td>\n",
       "      <td>22</td>\n",
       "    </tr>\n",
       "    <tr>\n",
       "      <th>2</th>\n",
       "      <td>info@example.com</td>\n",
       "      <td>8</td>\n",
       "    </tr>\n",
       "  </tbody>\n",
       "</table>\n",
       "</div>"
      ],
      "text/plain": [
       "                                               EMAIL  OCCURENCES\n",
       "0                             support@youth4work.com          36\n",
       "1  14370afcdc17429f9e418d5ffbd0334a@sentry.wixpre...          22\n",
       "2                                   info@example.com           8"
      ]
     },
     "execution_count": 76,
     "metadata": {},
     "output_type": "execute_result"
    }
   ],
   "source": [
    "edf.head(3)"
   ]
  },
  {
   "cell_type": "code",
   "execution_count": 77,
   "metadata": {},
   "outputs": [],
   "source": [
    "search=list(edf.EMAIL[edf.OCCURENCES>1])\r\n",
    "search+=['.jpg','.png']"
   ]
  },
  {
   "cell_type": "code",
   "execution_count": 78,
   "metadata": {},
   "outputs": [],
   "source": [
    "#search"
   ]
  },
  {
   "cell_type": "markdown",
   "metadata": {},
   "source": [
    "# Separating Duplicate and Null Emails \r\n",
    "## (search, save and delete)"
   ]
  },
  {
   "cell_type": "markdown",
   "metadata": {},
   "source": [
    "## 1. Searching Duplicate emails"
   ]
  },
  {
   "cell_type": "code",
   "execution_count": 79,
   "metadata": {},
   "outputs": [
    {
     "data": {
      "text/html": [
       "<div>\n",
       "<style scoped>\n",
       "    .dataframe tbody tr th:only-of-type {\n",
       "        vertical-align: middle;\n",
       "    }\n",
       "\n",
       "    .dataframe tbody tr th {\n",
       "        vertical-align: top;\n",
       "    }\n",
       "\n",
       "    .dataframe thead th {\n",
       "        text-align: right;\n",
       "    }\n",
       "</style>\n",
       "<table border=\"1\" class=\"dataframe\">\n",
       "  <thead>\n",
       "    <tr style=\"text-align: right;\">\n",
       "      <th></th>\n",
       "      <th>NAME</th>\n",
       "      <th>ADDRESS</th>\n",
       "      <th>DISTRICT</th>\n",
       "      <th>INSTITUTE</th>\n",
       "      <th>STATE</th>\n",
       "      <th>WEBSITE</th>\n",
       "      <th>EMAIL</th>\n",
       "    </tr>\n",
       "    <tr>\n",
       "      <th>AICTE ID</th>\n",
       "      <th></th>\n",
       "      <th></th>\n",
       "      <th></th>\n",
       "      <th></th>\n",
       "      <th></th>\n",
       "      <th></th>\n",
       "      <th></th>\n",
       "    </tr>\n",
       "  </thead>\n",
       "  <tbody>\n",
       "    <tr>\n",
       "      <th>1-7002311099</th>\n",
       "      <td>SIGMA ENGINEERING COLLEGE (MATAR)</td>\n",
       "      <td>AT: MATAR TA: AMOD DIST: BHARUCH</td>\n",
       "      <td>BHARUCH</td>\n",
       "      <td>Private-Self Financing</td>\n",
       "      <td>Gujarat</td>\n",
       "      <td>https://www.sigma.ac.in/leads.php</td>\n",
       "      <td>info@sigma.ac.in</td>\n",
       "    </tr>\n",
       "    <tr>\n",
       "      <th>1-7003685838</th>\n",
       "      <td>S.B.POLYTECHNIC</td>\n",
       "      <td>K.J.CAMPUS, OPP. I.T.I, JAVLA-SAVLI, P.O.SAVLI...</td>\n",
       "      <td>VADODARA</td>\n",
       "      <td>Private-Self Financing</td>\n",
       "      <td>Gujarat</td>\n",
       "      <td>https://www.kjit.org/institutes/sb-polytechnic/</td>\n",
       "      <td>info@kjit.org</td>\n",
       "    </tr>\n",
       "    <tr>\n",
       "      <th>1-7003841321</th>\n",
       "      <td>K.J.INSTITUTE OF ENGINEERING &amp; TECHNOLOGY</td>\n",
       "      <td>K.J.INSTITUTE OF ENGINEERING &amp; TECHNOLOGY, OPP...</td>\n",
       "      <td>VADODARA</td>\n",
       "      <td>Private-Self Financing</td>\n",
       "      <td>Gujarat</td>\n",
       "      <td>https://www.kjit.org/</td>\n",
       "      <td>info@kjit.org</td>\n",
       "    </tr>\n",
       "    <tr>\n",
       "      <th>1-7011714051</th>\n",
       "      <td>L. D. COLLEGE OF ENGINEERING</td>\n",
       "      <td>NEAR GUJARAT UNIVERSITY, NAVRANGPURA, AHMEDABA...</td>\n",
       "      <td>AHMEDABAD</td>\n",
       "      <td>Government</td>\n",
       "      <td>Gujarat</td>\n",
       "      <td>http://ldce.ac.in/</td>\n",
       "      <td>LDCE-PICTURESQUE-@-NIGHT.jpg</td>\n",
       "    </tr>\n",
       "  </tbody>\n",
       "</table>\n",
       "</div>"
      ],
      "text/plain": [
       "                                                   NAME  \\\n",
       "AICTE ID                                                  \n",
       "1-7002311099          SIGMA ENGINEERING COLLEGE (MATAR)   \n",
       "1-7003685838                            S.B.POLYTECHNIC   \n",
       "1-7003841321  K.J.INSTITUTE OF ENGINEERING & TECHNOLOGY   \n",
       "1-7011714051               L. D. COLLEGE OF ENGINEERING   \n",
       "\n",
       "                                                        ADDRESS   DISTRICT  \\\n",
       "AICTE ID                                                                     \n",
       "1-7002311099                   AT: MATAR TA: AMOD DIST: BHARUCH    BHARUCH   \n",
       "1-7003685838  K.J.CAMPUS, OPP. I.T.I, JAVLA-SAVLI, P.O.SAVLI...   VADODARA   \n",
       "1-7003841321  K.J.INSTITUTE OF ENGINEERING & TECHNOLOGY, OPP...   VADODARA   \n",
       "1-7011714051  NEAR GUJARAT UNIVERSITY, NAVRANGPURA, AHMEDABA...  AHMEDABAD   \n",
       "\n",
       "                           INSTITUTE    STATE  \\\n",
       "AICTE ID                                        \n",
       "1-7002311099  Private-Self Financing  Gujarat   \n",
       "1-7003685838  Private-Self Financing  Gujarat   \n",
       "1-7003841321  Private-Self Financing  Gujarat   \n",
       "1-7011714051              Government  Gujarat   \n",
       "\n",
       "                                                      WEBSITE  \\\n",
       "AICTE ID                                                        \n",
       "1-7002311099                https://www.sigma.ac.in/leads.php   \n",
       "1-7003685838  https://www.kjit.org/institutes/sb-polytechnic/   \n",
       "1-7003841321                            https://www.kjit.org/   \n",
       "1-7011714051                               http://ldce.ac.in/   \n",
       "\n",
       "                                     EMAIL  \n",
       "AICTE ID                                    \n",
       "1-7002311099              info@sigma.ac.in  \n",
       "1-7003685838                 info@kjit.org  \n",
       "1-7003841321                 info@kjit.org  \n",
       "1-7011714051  LDCE-PICTURESQUE-@-NIGHT.jpg  "
      ]
     },
     "execution_count": 79,
     "metadata": {},
     "output_type": "execute_result"
    }
   ],
   "source": [
    "b=df[df['EMAIL'].str.contains('|'.join(search),na=False)]\r\n",
    "b.head(4)\r\n",
    "#p=(b.index).tolist()\r\n",
    "#origdf.drop(labels=p,inplace=True)"
   ]
  },
  {
   "cell_type": "markdown",
   "metadata": {},
   "source": [
    "## 2. Saving Duplicate emails "
   ]
  },
  {
   "cell_type": "code",
   "execution_count": 89,
   "metadata": {},
   "outputs": [],
   "source": [
    "#b.to_csv('C:/Users/MyPC/OneDrive/Documents/Inbiot VS/Filtering/No 3P Dupl Remove/ACTUAL Cleaned/Duplicate and Useless Emails/Duplicate_and_useless_emails.csv')"
   ]
  },
  {
   "cell_type": "markdown",
   "metadata": {},
   "source": [
    "## 3. Searching Null Emails"
   ]
  },
  {
   "cell_type": "code",
   "execution_count": 81,
   "metadata": {},
   "outputs": [
    {
     "data": {
      "text/plain": [
       "NAME            0\n",
       "ADDRESS         0\n",
       "DISTRICT        0\n",
       "INSTITUTE       0\n",
       "STATE           0\n",
       "WEBSITE         0\n",
       "EMAIL        1101\n",
       "dtype: int64"
      ]
     },
     "execution_count": 81,
     "metadata": {},
     "output_type": "execute_result"
    }
   ],
   "source": [
    "df.isnull().sum()"
   ]
  },
  {
   "cell_type": "code",
   "execution_count": 82,
   "metadata": {},
   "outputs": [],
   "source": [
    "c=df[pd.isnull(df.EMAIL)]"
   ]
  },
  {
   "cell_type": "code",
   "execution_count": 83,
   "metadata": {},
   "outputs": [
    {
     "data": {
      "text/html": [
       "<div>\n",
       "<style scoped>\n",
       "    .dataframe tbody tr th:only-of-type {\n",
       "        vertical-align: middle;\n",
       "    }\n",
       "\n",
       "    .dataframe tbody tr th {\n",
       "        vertical-align: top;\n",
       "    }\n",
       "\n",
       "    .dataframe thead th {\n",
       "        text-align: right;\n",
       "    }\n",
       "</style>\n",
       "<table border=\"1\" class=\"dataframe\">\n",
       "  <thead>\n",
       "    <tr style=\"text-align: right;\">\n",
       "      <th></th>\n",
       "      <th>NAME</th>\n",
       "      <th>ADDRESS</th>\n",
       "      <th>DISTRICT</th>\n",
       "      <th>INSTITUTE</th>\n",
       "      <th>STATE</th>\n",
       "      <th>WEBSITE</th>\n",
       "      <th>EMAIL</th>\n",
       "    </tr>\n",
       "    <tr>\n",
       "      <th>AICTE ID</th>\n",
       "      <th></th>\n",
       "      <th></th>\n",
       "      <th></th>\n",
       "      <th></th>\n",
       "      <th></th>\n",
       "      <th></th>\n",
       "      <th></th>\n",
       "    </tr>\n",
       "  </thead>\n",
       "  <tbody>\n",
       "    <tr>\n",
       "      <th>1-7003786958</th>\n",
       "      <td>GOVERNMENT POLYTECHNIC MAYEM BICHOLIM</td>\n",
       "      <td>MAYEM BICHOLIM GOA</td>\n",
       "      <td>NORTH GOA</td>\n",
       "      <td>Government</td>\n",
       "      <td>Goa</td>\n",
       "      <td>http://gpb.goa.gov.in/</td>\n",
       "      <td>NaN</td>\n",
       "    </tr>\n",
       "    <tr>\n",
       "      <th>1-7014481936</th>\n",
       "      <td>AGNEL INSTITUTE OF TECHNOLOGY AND DESIGN</td>\n",
       "      <td>ASSAGAO, BARDEZ, GOA.</td>\n",
       "      <td>NORTH GOA</td>\n",
       "      <td>Private-Self Financing</td>\n",
       "      <td>Goa</td>\n",
       "      <td>https://aitdgoa.edu.in/</td>\n",
       "      <td>NaN</td>\n",
       "    </tr>\n",
       "  </tbody>\n",
       "</table>\n",
       "</div>"
      ],
      "text/plain": [
       "                                                  NAME                ADDRESS  \\\n",
       "AICTE ID                                                                        \n",
       "1-7003786958     GOVERNMENT POLYTECHNIC MAYEM BICHOLIM     MAYEM BICHOLIM GOA   \n",
       "1-7014481936  AGNEL INSTITUTE OF TECHNOLOGY AND DESIGN  ASSAGAO, BARDEZ, GOA.   \n",
       "\n",
       "               DISTRICT               INSTITUTE STATE  \\\n",
       "AICTE ID                                                \n",
       "1-7003786958  NORTH GOA              Government   Goa   \n",
       "1-7014481936  NORTH GOA  Private-Self Financing   Goa   \n",
       "\n",
       "                              WEBSITE EMAIL  \n",
       "AICTE ID                                     \n",
       "1-7003786958   http://gpb.goa.gov.in/   NaN  \n",
       "1-7014481936  https://aitdgoa.edu.in/   NaN  "
      ]
     },
     "execution_count": 83,
     "metadata": {},
     "output_type": "execute_result"
    }
   ],
   "source": [
    "c.head(2)"
   ]
  },
  {
   "cell_type": "markdown",
   "metadata": {},
   "source": [
    "## 4. Saving Null emails"
   ]
  },
  {
   "cell_type": "code",
   "execution_count": 84,
   "metadata": {},
   "outputs": [],
   "source": [
    "#c.to_csv('C:/Users/MyPC/OneDrive/Documents/Inbiot VS/Filtering/No 3P Dupl Remove/ACTUAL Cleaned/Null Emails/Null_emails.csv')"
   ]
  },
  {
   "cell_type": "markdown",
   "metadata": {},
   "source": [
    "## 5. Deleting Duplicates Emails"
   ]
  },
  {
   "cell_type": "code",
   "execution_count": 90,
   "metadata": {},
   "outputs": [],
   "source": [
    "b=df[df['EMAIL'].str.contains('|'.join(search),na=False)]\r\n",
    "b.head(4)\r\n",
    "p=(b.index).tolist()\r\n",
    "df.drop(labels=p,inplace=True)"
   ]
  },
  {
   "cell_type": "markdown",
   "metadata": {},
   "source": [
    "## 6. Deleting Null Emails"
   ]
  },
  {
   "cell_type": "code",
   "execution_count": 91,
   "metadata": {},
   "outputs": [],
   "source": [
    "df = df.dropna(axis=0, how='any')"
   ]
  },
  {
   "cell_type": "code",
   "execution_count": 87,
   "metadata": {},
   "outputs": [
    {
     "data": {
      "text/plain": [
       "2538"
      ]
     },
     "execution_count": 87,
     "metadata": {},
     "output_type": "execute_result"
    }
   ],
   "source": [
    "df.shape[0]"
   ]
  },
  {
   "cell_type": "markdown",
   "metadata": {},
   "source": [
    "# FINAL Data for Zonal Distribution"
   ]
  },
  {
   "cell_type": "code",
   "execution_count": 92,
   "metadata": {},
   "outputs": [],
   "source": [
    "#df.to_csv('C:/Users/MyPC/OneDrive/Documents/Inbiot VS/Filtering/No 3P Dupl Remove/ACTUAL Cleaned/FINAL FOR ZONAL DISTRUBTION/Final.csv')"
   ]
  },
  {
   "cell_type": "code",
   "execution_count": null,
   "metadata": {},
   "outputs": [],
   "source": []
  }
 ],
 "metadata": {
  "interpreter": {
   "hash": "3d248631164ccf49e4d0f7cd9b6653810f380e0eb47e5ed10fce527ac6e165db"
  },
  "kernelspec": {
   "display_name": "Python 3.7.10 64-bit ('myenv': conda)",
   "name": "python3"
  },
  "language_info": {
   "codemirror_mode": {
    "name": "ipython",
    "version": 3
   },
   "file_extension": ".py",
   "mimetype": "text/x-python",
   "name": "python",
   "nbconvert_exporter": "python",
   "pygments_lexer": "ipython3",
   "version": "3.7.10"
  },
  "orig_nbformat": 4
 },
 "nbformat": 4,
 "nbformat_minor": 2
}