{
 "metadata": {
  "language_info": {
   "codemirror_mode": {
    "name": "ipython",
    "version": 3
   },
   "file_extension": ".py",
   "mimetype": "text/x-python",
   "name": "python",
   "nbconvert_exporter": "python",
   "pygments_lexer": "ipython3",
   "version": "3.7.10"
  },
  "orig_nbformat": 4,
  "kernelspec": {
   "name": "python3",
   "display_name": "Python 3.7.10 64-bit ('myenv': conda)"
  },
  "interpreter": {
   "hash": "3d248631164ccf49e4d0f7cd9b6653810f380e0eb47e5ed10fce527ac6e165db"
  }
 },
 "nbformat": 4,
 "nbformat_minor": 2,
 "cells": [
  {
   "cell_type": "code",
   "execution_count": 1,
   "source": [
    "import numpy as np\r\n",
    "import pandas as pd\r\n",
    "pd.options.mode.chained_assignment = None  # default='warn'"
   ],
   "outputs": [],
   "metadata": {}
  },
  {
   "cell_type": "code",
   "execution_count": 2,
   "source": [
    "df=pd.read_csv('C:/Users/MyPC/OneDrive/Documents/Inbiot VS/AICTE Combined List 1.csv', skiprows=[0],header=None)"
   ],
   "outputs": [],
   "metadata": {}
  },
  {
   "cell_type": "code",
   "execution_count": 3,
   "source": [
    "df.head()"
   ],
   "outputs": [
    {
     "output_type": "execute_result",
     "data": {
      "text/plain": [
       "              0                                                  1  \\\n",
       "0  1-7003786958              GOVERNMENT POLYTECHNIC MAYEM BICHOLIM   \n",
       "1  1-7006364088                   DON BOSCO COLLEGE OF ENGINEERING   \n",
       "2  1-7006458223               INSTITUTE OF SHIPBUILDING TECHNOLOGY   \n",
       "3  1-7006524807     GOA COLLEGE OF ENGINEERING (GOVERNMENT OF GOA)   \n",
       "4  1-7010374121  SHREE RAYESHWAR INSTITUTE OF ENGINEERING AND I...   \n",
       "\n",
       "                                        2          3                       4  \\\n",
       "0                      MAYEM BICHOLIM GOA  NORTH GOA              Government   \n",
       "1                     DON BOSCO, FATORDA,  SOUTH GOA  Private-Self Financing   \n",
       "2        BOGDA, VASCO-DA-GAMA, GOA 403802  SOUTH GOA              Govt aided   \n",
       "3         FARMAGUDI, PONDA-GOA PIN-403401  NORTH GOA              Government   \n",
       "4  SHIV SHAIL, KARAI, SHIRODA, GOA 403103  NORTH GOA  Private-Self Financing   \n",
       "\n",
       "     5  \n",
       "0  Goa  \n",
       "1  Goa  \n",
       "2  Goa  \n",
       "3  Goa  \n",
       "4  Goa  "
      ],
      "text/html": [
       "<div>\n",
       "<style scoped>\n",
       "    .dataframe tbody tr th:only-of-type {\n",
       "        vertical-align: middle;\n",
       "    }\n",
       "\n",
       "    .dataframe tbody tr th {\n",
       "        vertical-align: top;\n",
       "    }\n",
       "\n",
       "    .dataframe thead th {\n",
       "        text-align: right;\n",
       "    }\n",
       "</style>\n",
       "<table border=\"1\" class=\"dataframe\">\n",
       "  <thead>\n",
       "    <tr style=\"text-align: right;\">\n",
       "      <th></th>\n",
       "      <th>0</th>\n",
       "      <th>1</th>\n",
       "      <th>2</th>\n",
       "      <th>3</th>\n",
       "      <th>4</th>\n",
       "      <th>5</th>\n",
       "    </tr>\n",
       "  </thead>\n",
       "  <tbody>\n",
       "    <tr>\n",
       "      <th>0</th>\n",
       "      <td>1-7003786958</td>\n",
       "      <td>GOVERNMENT POLYTECHNIC MAYEM BICHOLIM</td>\n",
       "      <td>MAYEM BICHOLIM GOA</td>\n",
       "      <td>NORTH GOA</td>\n",
       "      <td>Government</td>\n",
       "      <td>Goa</td>\n",
       "    </tr>\n",
       "    <tr>\n",
       "      <th>1</th>\n",
       "      <td>1-7006364088</td>\n",
       "      <td>DON BOSCO COLLEGE OF ENGINEERING</td>\n",
       "      <td>DON BOSCO, FATORDA,</td>\n",
       "      <td>SOUTH GOA</td>\n",
       "      <td>Private-Self Financing</td>\n",
       "      <td>Goa</td>\n",
       "    </tr>\n",
       "    <tr>\n",
       "      <th>2</th>\n",
       "      <td>1-7006458223</td>\n",
       "      <td>INSTITUTE OF SHIPBUILDING TECHNOLOGY</td>\n",
       "      <td>BOGDA, VASCO-DA-GAMA, GOA 403802</td>\n",
       "      <td>SOUTH GOA</td>\n",
       "      <td>Govt aided</td>\n",
       "      <td>Goa</td>\n",
       "    </tr>\n",
       "    <tr>\n",
       "      <th>3</th>\n",
       "      <td>1-7006524807</td>\n",
       "      <td>GOA COLLEGE OF ENGINEERING (GOVERNMENT OF GOA)</td>\n",
       "      <td>FARMAGUDI, PONDA-GOA PIN-403401</td>\n",
       "      <td>NORTH GOA</td>\n",
       "      <td>Government</td>\n",
       "      <td>Goa</td>\n",
       "    </tr>\n",
       "    <tr>\n",
       "      <th>4</th>\n",
       "      <td>1-7010374121</td>\n",
       "      <td>SHREE RAYESHWAR INSTITUTE OF ENGINEERING AND I...</td>\n",
       "      <td>SHIV SHAIL, KARAI, SHIRODA, GOA 403103</td>\n",
       "      <td>NORTH GOA</td>\n",
       "      <td>Private-Self Financing</td>\n",
       "      <td>Goa</td>\n",
       "    </tr>\n",
       "  </tbody>\n",
       "</table>\n",
       "</div>"
      ]
     },
     "metadata": {},
     "execution_count": 3
    }
   ],
   "metadata": {}
  },
  {
   "cell_type": "code",
   "execution_count": null,
   "source": [
    "df.isnull().sum()"
   ],
   "outputs": [],
   "metadata": {}
  },
  {
   "cell_type": "code",
   "execution_count": null,
   "source": [
    "df= df.dropna(axis=0)"
   ],
   "outputs": [],
   "metadata": {}
  },
  {
   "cell_type": "code",
   "execution_count": null,
   "source": [
    "df.isnull().sum()"
   ],
   "outputs": [],
   "metadata": {}
  },
  {
   "cell_type": "code",
   "execution_count": null,
   "source": [
    "from googlesearch import search"
   ],
   "outputs": [],
   "metadata": {}
  },
  {
   "cell_type": "code",
   "execution_count": null,
   "source": [
    "df[\"WEBSITE\"]=np.nan"
   ],
   "outputs": [],
   "metadata": {}
  },
  {
   "cell_type": "code",
   "execution_count": null,
   "source": [
    "df.head()"
   ],
   "outputs": [],
   "metadata": {}
  },
  {
   "cell_type": "code",
   "execution_count": null,
   "source": [
    "for i in range(0,df.shape[0]):\r\n",
    "    query=df.iloc[i,1]\r\n",
    "    for j in search(query, num=1, stop=1, pause=1):\r\n",
    "        df.iloc[i,6]=j\r\n",
    "        print(df.iloc[i,1],'\\t',j)"
   ],
   "outputs": [],
   "metadata": {}
  },
  {
   "cell_type": "code",
   "execution_count": null,
   "source": [
    "df.columns=['AICTE ID','NAME','ADDRESS','DISTRICT','INSTITUTE','STATE','WEBSITE']"
   ],
   "outputs": [],
   "metadata": {}
  },
  {
   "cell_type": "code",
   "execution_count": null,
   "source": [
    "df.to_excel('C:/Users/MyPC/OneDrive/Documents/Inbiot VS/First 500/AICTE Combined List FINAL.xlsx')"
   ],
   "outputs": [],
   "metadata": {}
  }
 ]
}