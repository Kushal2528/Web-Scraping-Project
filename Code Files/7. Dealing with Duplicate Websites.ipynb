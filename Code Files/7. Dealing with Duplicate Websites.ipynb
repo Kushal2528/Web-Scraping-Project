{
 "cells": [
  {
   "cell_type": "code",
   "execution_count": null,
   "metadata": {},
   "outputs": [],
   "source": [
    "import pandas as pd\r\n",
    "origdf=pd.read_csv('C:/Users/MyPC/OneDrive/Documents/Inbiot VS/Filtering/No 3P Dupl Remove/NO_3rdparty.csv')\r\n",
    "origdf.shape[0]"
   ]
  },
  {
   "cell_type": "markdown",
   "metadata": {},
   "source": [
    "# Tried using drop_duplicates"
   ]
  },
  {
   "cell_type": "code",
   "execution_count": null,
   "metadata": {},
   "outputs": [],
   "source": [
    "origdf.drop_duplicates(subset=['WEBSITE','EMAIL'],inplace=True)\r\n",
    "#origdf.drop_duplicates(subset=['WEBSITE'],inplace=True)"
   ]
  },
  {
   "cell_type": "code",
   "execution_count": null,
   "metadata": {},
   "outputs": [],
   "source": [
    "#origdf.to_csv('C:/Users/MyPC/OneDrive/Documents/Inbiot VS/Filtering/No 3P Dupl Remove/CLEANED/Experiment/duplremoved.csv')"
   ]
  },
  {
   "cell_type": "markdown",
   "metadata": {},
   "source": [
    "# Still some duplicate website exist"
   ]
  },
  {
   "cell_type": "code",
   "execution_count": null,
   "metadata": {},
   "outputs": [],
   "source": [
    "a=origdf.WEBSITE.value_counts()\r\n",
    "stilldup=(a[a>1]).to_frame()\r\n",
    "stilldup.columns=['OCCURENECES']\r\n",
    "stilldup"
   ]
  },
  {
   "cell_type": "markdown",
   "metadata": {},
   "source": [
    "# BEST WAY IS TO SEPARATE AND REMOVE ALL ROWS WITH DUPLICATE"
   ]
  },
  {
   "cell_type": "markdown",
   "metadata": {},
   "source": [
    "### (Note: I got the occurences for present file(No 3rdparty) using same code for website occurences)"
   ]
  },
  {
   "cell_type": "code",
   "execution_count": null,
   "metadata": {},
   "outputs": [],
   "source": [
    "df=pd.read_csv('C:/Users/MyPC/OneDrive/Documents/Inbiot VS/Occurences/Occurences after removing 3rd party/2nd approach/websiteoccur2.csv')"
   ]
  },
  {
   "cell_type": "code",
   "execution_count": null,
   "metadata": {},
   "outputs": [],
   "source": [
    "df"
   ]
  },
  {
   "cell_type": "markdown",
   "metadata": {},
   "source": [
    "## Making a list of all websites with more than 1 occurences"
   ]
  },
  {
   "cell_type": "code",
   "execution_count": null,
   "metadata": {},
   "outputs": [],
   "source": [
    "search=list(df.WEBSITE[df.OCCURENCES>1])"
   ]
  },
  {
   "cell_type": "code",
   "execution_count": null,
   "metadata": {},
   "outputs": [],
   "source": [
    "search"
   ]
  },
  {
   "cell_type": "code",
   "execution_count": null,
   "metadata": {},
   "outputs": [],
   "source": [
    "origdf=pd.read_csv('C:/Users/MyPC/OneDrive/Documents/Inbiot VS/Filtering/No 3P Dupl Remove/NO_3rdparty.csv')\r\n",
    "origdf.shape[0]"
   ]
  },
  {
   "cell_type": "markdown",
   "metadata": {},
   "source": [
    "# Separating all websites which have multiple occurences\r\n",
    "## (search, save and delete)"
   ]
  },
  {
   "cell_type": "markdown",
   "metadata": {},
   "source": [
    "1. Search"
   ]
  },
  {
   "cell_type": "code",
   "execution_count": null,
   "metadata": {},
   "outputs": [],
   "source": [
    "b=origdf[origdf['WEBSITE'].str.contains('|'.join(search),na=False)]\r\n",
    "b\r\n",
    "#p=(b.index).tolist()\r\n",
    "#df.drop(labels=p,inplace=True)"
   ]
  },
  {
   "cell_type": "markdown",
   "metadata": {},
   "source": [
    "2. Save"
   ]
  },
  {
   "cell_type": "code",
   "execution_count": null,
   "metadata": {},
   "outputs": [],
   "source": [
    "#b.to_csv('C:/Users/MyPC/OneDrive/Documents/Inbiot VS/Filtering/No 3P Dupl Remove/Removed DUPLS/DUPLICATES.csv')"
   ]
  },
  {
   "cell_type": "markdown",
   "metadata": {},
   "source": [
    "3. Delete"
   ]
  },
  {
   "cell_type": "code",
   "execution_count": null,
   "metadata": {},
   "outputs": [],
   "source": [
    "b=origdf[origdf['WEBSITE'].str.contains('|'.join(search),na=False)]\r\n",
    "b\r\n",
    "p=(b.index).tolist()\r\n",
    "origdf.drop(labels=p,inplace=True)"
   ]
  },
  {
   "cell_type": "markdown",
   "metadata": {},
   "source": [
    "## Exporting dataset with filtered websites"
   ]
  },
  {
   "cell_type": "code",
   "execution_count": null,
   "metadata": {},
   "outputs": [],
   "source": [
    "origdf.shape[0]"
   ]
  },
  {
   "cell_type": "code",
   "execution_count": null,
   "metadata": {},
   "outputs": [],
   "source": [
    "#origdf.to_csv('C:/Users/MyPC/OneDrive/Documents/Inbiot VS/Filtering/No 3P Dupl Remove/ACTUAL Cleaned/duplremoved.csv')"
   ]
  }
 ],
 "metadata": {
  "interpreter": {
   "hash": "3d248631164ccf49e4d0f7cd9b6653810f380e0eb47e5ed10fce527ac6e165db"
  },
  "kernelspec": {
   "display_name": "Python 3.7.10 64-bit ('myenv': conda)",
   "name": "python3"
  },
  "language_info": {
   "name": "python",
   "version": ""
  },
  "orig_nbformat": 4
 },
 "nbformat": 4,
 "nbformat_minor": 2
}