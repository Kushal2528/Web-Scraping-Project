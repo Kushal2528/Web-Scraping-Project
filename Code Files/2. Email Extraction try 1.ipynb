{
 "metadata": {
  "language_info": {
   "codemirror_mode": {
    "name": "ipython",
    "version": 3
   },
   "file_extension": ".py",
   "mimetype": "text/x-python",
   "name": "python",
   "nbconvert_exporter": "python",
   "pygments_lexer": "ipython3",
   "version": "3.7.10"
  },
  "orig_nbformat": 4,
  "kernelspec": {
   "name": "python3",
   "display_name": "Python 3.7.10 64-bit ('myenv': conda)"
  },
  "interpreter": {
   "hash": "3d248631164ccf49e4d0f7cd9b6653810f380e0eb47e5ed10fce527ac6e165db"
  }
 },
 "nbformat": 4,
 "nbformat_minor": 2,
 "cells": [
  {
   "cell_type": "code",
   "execution_count": 8,
   "metadata": {},
   "outputs": [],
   "source": [
    "import pandas as pd\n",
    "import re\n",
    "from matplotlib import pyplot as plt\n",
    "import urllib.request\n",
    "import numpy as np\n",
    "df=pd.read_csv('C:/Users/MyPC/OneDrive/Documents/Inbiot VS/FINAL/Final after website/AICTE Combined List FINAL.csv')"
   ]
  },
  {
   "cell_type": "code",
   "execution_count": 6,
   "metadata": {},
   "outputs": [
    {
     "output_type": "execute_result",
     "data": {
      "text/plain": [
       "   Unnamed: 0      AICTE ID  \\\n",
       "0           0  1-7003786958   \n",
       "1           1  1-7006364088   \n",
       "2           2  1-7006458223   \n",
       "3           3  1-7006524807   \n",
       "4           4  1-7010374121   \n",
       "\n",
       "                                                NAME  \\\n",
       "0              GOVERNMENT POLYTECHNIC MAYEM BICHOLIM   \n",
       "1                   DON BOSCO COLLEGE OF ENGINEERING   \n",
       "2               INSTITUTE OF SHIPBUILDING TECHNOLOGY   \n",
       "3     GOA COLLEGE OF ENGINEERING (GOVERNMENT OF GOA)   \n",
       "4  SHREE RAYESHWAR INSTITUTE OF ENGINEERING AND I...   \n",
       "\n",
       "                                  ADDRESS   DISTRICT               INSTITUTE  \\\n",
       "0                      MAYEM BICHOLIM GOA  NORTH GOA              Government   \n",
       "1                     DON BOSCO, FATORDA,  SOUTH GOA  Private-Self Financing   \n",
       "2        BOGDA, VASCO-DA-GAMA, GOA 403802  SOUTH GOA              Govt aided   \n",
       "3         FARMAGUDI, PONDA-GOA PIN-403401  NORTH GOA              Government   \n",
       "4  SHIV SHAIL, KARAI, SHIRODA, GOA 403103  NORTH GOA  Private-Self Financing   \n",
       "\n",
       "  STATE                     WEBSITE  \n",
       "0   Goa      http://gpb.goa.gov.in/  \n",
       "1   Goa  https://www.dbcegoa.ac.in/  \n",
       "2   Goa      http://www.isbt.ac.in/  \n",
       "3   Goa       http://www.gec.ac.in/  \n",
       "4   Goa       https://ritgoa.ac.in/  "
      ],
      "text/html": "<div>\n<style scoped>\n    .dataframe tbody tr th:only-of-type {\n        vertical-align: middle;\n    }\n\n    .dataframe tbody tr th {\n        vertical-align: top;\n    }\n\n    .dataframe thead th {\n        text-align: right;\n    }\n</style>\n<table border=\"1\" class=\"dataframe\">\n  <thead>\n    <tr style=\"text-align: right;\">\n      <th></th>\n      <th>Unnamed: 0</th>\n      <th>AICTE ID</th>\n      <th>NAME</th>\n      <th>ADDRESS</th>\n      <th>DISTRICT</th>\n      <th>INSTITUTE</th>\n      <th>STATE</th>\n      <th>WEBSITE</th>\n    </tr>\n  </thead>\n  <tbody>\n    <tr>\n      <th>0</th>\n      <td>0</td>\n      <td>1-7003786958</td>\n      <td>GOVERNMENT POLYTECHNIC MAYEM BICHOLIM</td>\n      <td>MAYEM BICHOLIM GOA</td>\n      <td>NORTH GOA</td>\n      <td>Government</td>\n      <td>Goa</td>\n      <td>http://gpb.goa.gov.in/</td>\n    </tr>\n    <tr>\n      <th>1</th>\n      <td>1</td>\n      <td>1-7006364088</td>\n      <td>DON BOSCO COLLEGE OF ENGINEERING</td>\n      <td>DON BOSCO, FATORDA,</td>\n      <td>SOUTH GOA</td>\n      <td>Private-Self Financing</td>\n      <td>Goa</td>\n      <td>https://www.dbcegoa.ac.in/</td>\n    </tr>\n    <tr>\n      <th>2</th>\n      <td>2</td>\n      <td>1-7006458223</td>\n      <td>INSTITUTE OF SHIPBUILDING TECHNOLOGY</td>\n      <td>BOGDA, VASCO-DA-GAMA, GOA 403802</td>\n      <td>SOUTH GOA</td>\n      <td>Govt aided</td>\n      <td>Goa</td>\n      <td>http://www.isbt.ac.in/</td>\n    </tr>\n    <tr>\n      <th>3</th>\n      <td>3</td>\n      <td>1-7006524807</td>\n      <td>GOA COLLEGE OF ENGINEERING (GOVERNMENT OF GOA)</td>\n      <td>FARMAGUDI, PONDA-GOA PIN-403401</td>\n      <td>NORTH GOA</td>\n      <td>Government</td>\n      <td>Goa</td>\n      <td>http://www.gec.ac.in/</td>\n    </tr>\n    <tr>\n      <th>4</th>\n      <td>4</td>\n      <td>1-7010374121</td>\n      <td>SHREE RAYESHWAR INSTITUTE OF ENGINEERING AND I...</td>\n      <td>SHIV SHAIL, KARAI, SHIRODA, GOA 403103</td>\n      <td>NORTH GOA</td>\n      <td>Private-Self Financing</td>\n      <td>Goa</td>\n      <td>https://ritgoa.ac.in/</td>\n    </tr>\n  </tbody>\n</table>\n</div>"
     },
     "metadata": {},
     "execution_count": 6
    }
   ],
   "source": [
    "df.head()"
   ]
  },
  {
   "cell_type": "code",
   "execution_count": 9,
   "metadata": {},
   "outputs": [],
   "source": [
    "df['EMAIL']=np.nan"
   ]
  },
  {
   "cell_type": "code",
   "execution_count": 10,
   "metadata": {},
   "outputs": [
    {
     "output_type": "execute_result",
     "data": {
      "text/plain": [
       "   Unnamed: 0      AICTE ID  \\\n",
       "0           0  1-7003786958   \n",
       "1           1  1-7006364088   \n",
       "2           2  1-7006458223   \n",
       "3           3  1-7006524807   \n",
       "4           4  1-7010374121   \n",
       "\n",
       "                                                NAME  \\\n",
       "0              GOVERNMENT POLYTECHNIC MAYEM BICHOLIM   \n",
       "1                   DON BOSCO COLLEGE OF ENGINEERING   \n",
       "2               INSTITUTE OF SHIPBUILDING TECHNOLOGY   \n",
       "3     GOA COLLEGE OF ENGINEERING (GOVERNMENT OF GOA)   \n",
       "4  SHREE RAYESHWAR INSTITUTE OF ENGINEERING AND I...   \n",
       "\n",
       "                                  ADDRESS   DISTRICT               INSTITUTE  \\\n",
       "0                      MAYEM BICHOLIM GOA  NORTH GOA              Government   \n",
       "1                     DON BOSCO, FATORDA,  SOUTH GOA  Private-Self Financing   \n",
       "2        BOGDA, VASCO-DA-GAMA, GOA 403802  SOUTH GOA              Govt aided   \n",
       "3         FARMAGUDI, PONDA-GOA PIN-403401  NORTH GOA              Government   \n",
       "4  SHIV SHAIL, KARAI, SHIRODA, GOA 403103  NORTH GOA  Private-Self Financing   \n",
       "\n",
       "  STATE                     WEBSITE  EMAIL  \n",
       "0   Goa      http://gpb.goa.gov.in/    NaN  \n",
       "1   Goa  https://www.dbcegoa.ac.in/    NaN  \n",
       "2   Goa      http://www.isbt.ac.in/    NaN  \n",
       "3   Goa       http://www.gec.ac.in/    NaN  \n",
       "4   Goa       https://ritgoa.ac.in/    NaN  "
      ],
      "text/html": "<div>\n<style scoped>\n    .dataframe tbody tr th:only-of-type {\n        vertical-align: middle;\n    }\n\n    .dataframe tbody tr th {\n        vertical-align: top;\n    }\n\n    .dataframe thead th {\n        text-align: right;\n    }\n</style>\n<table border=\"1\" class=\"dataframe\">\n  <thead>\n    <tr style=\"text-align: right;\">\n      <th></th>\n      <th>Unnamed: 0</th>\n      <th>AICTE ID</th>\n      <th>NAME</th>\n      <th>ADDRESS</th>\n      <th>DISTRICT</th>\n      <th>INSTITUTE</th>\n      <th>STATE</th>\n      <th>WEBSITE</th>\n      <th>EMAIL</th>\n    </tr>\n  </thead>\n  <tbody>\n    <tr>\n      <th>0</th>\n      <td>0</td>\n      <td>1-7003786958</td>\n      <td>GOVERNMENT POLYTECHNIC MAYEM BICHOLIM</td>\n      <td>MAYEM BICHOLIM GOA</td>\n      <td>NORTH GOA</td>\n      <td>Government</td>\n      <td>Goa</td>\n      <td>http://gpb.goa.gov.in/</td>\n      <td>NaN</td>\n    </tr>\n    <tr>\n      <th>1</th>\n      <td>1</td>\n      <td>1-7006364088</td>\n      <td>DON BOSCO COLLEGE OF ENGINEERING</td>\n      <td>DON BOSCO, FATORDA,</td>\n      <td>SOUTH GOA</td>\n      <td>Private-Self Financing</td>\n      <td>Goa</td>\n      <td>https://www.dbcegoa.ac.in/</td>\n      <td>NaN</td>\n    </tr>\n    <tr>\n      <th>2</th>\n      <td>2</td>\n      <td>1-7006458223</td>\n      <td>INSTITUTE OF SHIPBUILDING TECHNOLOGY</td>\n      <td>BOGDA, VASCO-DA-GAMA, GOA 403802</td>\n      <td>SOUTH GOA</td>\n      <td>Govt aided</td>\n      <td>Goa</td>\n      <td>http://www.isbt.ac.in/</td>\n      <td>NaN</td>\n    </tr>\n    <tr>\n      <th>3</th>\n      <td>3</td>\n      <td>1-7006524807</td>\n      <td>GOA COLLEGE OF ENGINEERING (GOVERNMENT OF GOA)</td>\n      <td>FARMAGUDI, PONDA-GOA PIN-403401</td>\n      <td>NORTH GOA</td>\n      <td>Government</td>\n      <td>Goa</td>\n      <td>http://www.gec.ac.in/</td>\n      <td>NaN</td>\n    </tr>\n    <tr>\n      <th>4</th>\n      <td>4</td>\n      <td>1-7010374121</td>\n      <td>SHREE RAYESHWAR INSTITUTE OF ENGINEERING AND I...</td>\n      <td>SHIV SHAIL, KARAI, SHIRODA, GOA 403103</td>\n      <td>NORTH GOA</td>\n      <td>Private-Self Financing</td>\n      <td>Goa</td>\n      <td>https://ritgoa.ac.in/</td>\n      <td>NaN</td>\n    </tr>\n  </tbody>\n</table>\n</div>"
     },
     "metadata": {},
     "execution_count": 10
    }
   ],
   "source": [
    "df.head()"
   ]
  },
  {
   "cell_type": "code",
   "execution_count": null,
   "metadata": {},
   "outputs": [],
   "source": [
    "df.shape"
   ]
  },
  {
   "cell_type": "code",
   "execution_count": null,
   "metadata": {},
   "outputs": [],
   "source": [
    "for i in range(0,df.shape[0]):\n",
    "    try:\n",
    "        weburl=urllib.request.urlopen(df.iloc[i,7])\n",
    "        data=weburl.read().decode('utf-8')    \n",
    "        valid=r'\\b[A-Za-z0-9._%+-]+@[A-Za-z0-9.-]+\\.[A-Z|a-z]{2,}\\b'\n",
    "        email=re.search(valid,data)\n",
    "        if email!=None:\n",
    "            a=email.group(0)\n",
    "            df.iloc[i,8]=a\n",
    "            print(i,df.iloc[i,2],'\\t',email.group(0))\n",
    "        else:\n",
    "            print(i,'\\t', \"Match not found\")    \n",
    "    except Exception as error:\n",
    "        print(error)"
   ]
  },
  {
   "cell_type": "code",
   "execution_count": null,
   "metadata": {},
   "outputs": [],
   "source": [
    "df.to_csv('D:/Inbiot VS/EMAILS/Upto 5300/AICTE Combined List FINAL.csv')"
   ]
  }
 ]
}